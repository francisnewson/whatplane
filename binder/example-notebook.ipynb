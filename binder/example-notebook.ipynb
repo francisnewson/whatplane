{
 "cells": [
  {
   "cell_type": "markdown",
   "id": "201c2c75-060f-481e-b075-d23b620cf7d7",
   "metadata": {},
   "source": [
    "# Intro to python"
   ]
  },
  {
   "cell_type": "markdown",
   "id": "69f04d4c-c019-4345-bc1e-19bd02451bc8",
   "metadata": {},
   "source": [
    "Normally, you write python in files like `myfile.py`, which you execute like `python myfile.py` (analogous to `php myfile.php`).\n",
    "\n",
    "Here, we are using a [jupyter notebook](https://jupyter.org/) which is a nice place to experiment because it lets you run individual lines. Plus it lets you write these nice _formattted_ comments.\n",
    "\n",
    "Here's an example of some python. Click the cell containing the code and press shift-enter to run it. "
   ]
  },
  {
   "cell_type": "code",
   "execution_count": null,
   "id": "69935157-8387-45ce-a508-4957e9c7bcc4",
   "metadata": {},
   "outputs": [],
   "source": [
    "my_apple_count = 2\n",
    "your_apple_count = 3\n",
    "our_apple_count = my_apple_count + your_apple_count\n",
    "print(our_apple_count)"
   ]
  },
  {
   "cell_type": "markdown",
   "id": "5e49306d-3359-4299-815b-37233f0818e4",
   "metadata": {},
   "source": [
    "Syntax is pretty minimalist. There are no semi-colons and you rarely have to specify types (this is like php, but not like c++)."
   ]
  },
  {
   "cell_type": "markdown",
   "id": "40f84394-fa3f-4b6f-86b3-f88d50281394",
   "metadata": {},
   "source": [
    "### Strings"
   ]
  },
  {
   "cell_type": "code",
   "execution_count": null,
   "id": "664f4bd6-e646-40ff-8861-33e6ef7b8f75",
   "metadata": {},
   "outputs": [],
   "source": [
    "name = 'bob' # name is a string\n",
    "intro = 'hello'\n",
    "print( intro + ' ' + name ) # you can 'add' strings together"
   ]
  },
  {
   "cell_type": "markdown",
   "id": "81b3d2c0-3b43-42c3-ad98-29b498def472",
   "metadata": {},
   "source": [
    "Python aims not to be surprising, so 'adding' strings does what you'd expect. In the particular example above, people normally write it like this:"
   ]
  },
  {
   "cell_type": "code",
   "execution_count": null,
   "id": "940371cf-3741-48dd-9557-b2757a9fba05",
   "metadata": {},
   "outputs": [],
   "source": [
    "print( f'{intro} {name}') # clearer and more performant than explicitly adding. The 'f' at the start means \"format\""
   ]
  },
  {
   "cell_type": "markdown",
   "id": "e1bdfcab-7942-4019-b382-daa60c11b68e",
   "metadata": {},
   "source": [
    "(note that these code cells are not indepent - `intro` and `name` held their values between cells)"
   ]
  },
  {
   "cell_type": "markdown",
   "id": "adf147d8-905a-43c9-bc58-320c381bb935",
   "metadata": {},
   "source": [
    "### Lists"
   ]
  },
  {
   "cell_type": "markdown",
   "id": "6fe03d57-7eb1-429a-a9e5-0ea15039f673",
   "metadata": {},
   "source": [
    "A special feature of jupyter notebooks, is that it will print the last thing you write, to save you having to explicitly write it:"
   ]
  },
  {
   "cell_type": "code",
   "execution_count": null,
   "id": "10fa17f3-5e22-4f0c-80bd-7d0cbc589491",
   "metadata": {},
   "outputs": [],
   "source": [
    "my_favourite_things = ['mittens', 'brown paper packages', 'raindrops' ] \n",
    "more_favourite_things = my_favourite_things + ['python']\n",
    "more_favourite_things"
   ]
  },
  {
   "cell_type": "markdown",
   "id": "853aa363-1d6f-4456-8234-ac07c950e15d",
   "metadata": {},
   "source": [
    "That was also an introduction to lists. (Similar to arrays)"
   ]
  },
  {
   "cell_type": "code",
   "execution_count": null,
   "id": "4525dd9f-852c-4ea7-82fe-5800013d686e",
   "metadata": {},
   "outputs": [],
   "source": [
    "my_favourite_things[0] # the first element (zero indexed!)"
   ]
  },
  {
   "cell_type": "code",
   "execution_count": null,
   "id": "eb5f7ea9-6eba-483c-9016-7319804e074a",
   "metadata": {},
   "outputs": [],
   "source": [
    "my_favourite_things[2] # [2] is the position of the last element"
   ]
  },
  {
   "cell_type": "code",
   "execution_count": null,
   "id": "116f498a-fdf5-49b3-bc3f-fe4de3c8f3fa",
   "metadata": {},
   "outputs": [],
   "source": [
    "my_favourite_things[-1] # you can also start at the end and work backwards"
   ]
  },
  {
   "cell_type": "code",
   "execution_count": null,
   "id": "2852bca2-d76e-4132-b3df-d9b856737d44",
   "metadata": {},
   "outputs": [],
   "source": [
    "my_favourite_things[0:2] # you can select a subrange"
   ]
  },
  {
   "cell_type": "markdown",
   "id": "ccd93aff-d453-4743-802b-59ab569915a8",
   "metadata": {},
   "source": [
    "### Functions"
   ]
  },
  {
   "cell_type": "markdown",
   "id": "c86bbeb9-b81f-45d4-abec-821721e7c6f9",
   "metadata": {},
   "source": [
    "The look like this:"
   ]
  },
  {
   "cell_type": "code",
   "execution_count": null,
   "id": "907a9972-26e6-480c-8a06-ef6f42777f1c",
   "metadata": {},
   "outputs": [],
   "source": [
    "def square(n):\n",
    "    return n * n"
   ]
  },
  {
   "cell_type": "code",
   "execution_count": null,
   "id": "c8a36d5c-910b-4c29-ae5b-11e97df234fd",
   "metadata": {},
   "outputs": [],
   "source": [
    "square(3)"
   ]
  },
  {
   "cell_type": "markdown",
   "id": "c8f12ccb-dcab-4234-882f-f572dde7cea6",
   "metadata": {},
   "source": [
    "Unlike some other languages, functions are \"first class objects\". So you treat them like any other thing you pass around."
   ]
  },
  {
   "cell_type": "code",
   "execution_count": null,
   "id": "1ee1cc64-1b63-4029-8e9a-4a1865b0042b",
   "metadata": {},
   "outputs": [],
   "source": [
    "square"
   ]
  },
  {
   "cell_type": "code",
   "execution_count": null,
   "id": "880194f6-80fe-40ae-89a5-67f2eee1472b",
   "metadata": {},
   "outputs": [],
   "source": [
    "def do_my_function_twice( fun, input_value):\n",
    "    '''This function accepts another function as one of it's arguments!'''\n",
    "    \n",
    "    return fun(fun(input_value))"
   ]
  },
  {
   "cell_type": "code",
   "execution_count": null,
   "id": "69e5d286-9980-42ed-b75b-5db8ab449b7e",
   "metadata": {},
   "outputs": [],
   "source": [
    "do_my_function_twice(square, 2)"
   ]
  },
  {
   "cell_type": "markdown",
   "id": "06aa143b-2567-4916-a200-89744e520315",
   "metadata": {},
   "source": [
    "### Imports"
   ]
  },
  {
   "cell_type": "markdown",
   "id": "7e7af66b-5cb3-488c-9664-6cea8103be9a",
   "metadata": {},
   "source": [
    "Some functions (https://docs.python.org/3/library/functions.html) are always available:"
   ]
  },
  {
   "cell_type": "code",
   "execution_count": null,
   "id": "1106003b-5fc0-41fa-b60a-b58952a24a76",
   "metadata": {},
   "outputs": [],
   "source": [
    "print('10 green bottles')"
   ]
  },
  {
   "cell_type": "code",
   "execution_count": null,
   "id": "64c505a3-4e93-4a2c-96c7-141ac5deaf04",
   "metadata": {},
   "outputs": [],
   "source": [
    "pow(2, 3)"
   ]
  },
  {
   "cell_type": "code",
   "execution_count": null,
   "id": "49e69d36-82c3-4a95-b561-03454a6283e2",
   "metadata": {},
   "outputs": [],
   "source": [
    "sorted( [5,1,3,6] )"
   ]
  },
  {
   "cell_type": "markdown",
   "id": "5b0b0dcf-febb-421a-9449-177b8129629a",
   "metadata": {},
   "source": [
    "Others have to be imported. This one is a standard python library. It does url parsing:"
   ]
  },
  {
   "cell_type": "code",
   "execution_count": null,
   "id": "a59ccd9d-22db-4dc3-ba4f-cd9f2cbf087b",
   "metadata": {},
   "outputs": [],
   "source": [
    "import urllib.parse"
   ]
  },
  {
   "cell_type": "code",
   "execution_count": null,
   "id": "886e2b6a-3bb0-4a23-a6c8-42f03d11c4e5",
   "metadata": {},
   "outputs": [],
   "source": [
    "urllib.parse.urlparse('http://https://www.bbc.co.uk/news/uk')"
   ]
  },
  {
   "cell_type": "markdown",
   "id": "1a192174-0a49-49df-a386-99d19d9b954e",
   "metadata": {},
   "source": [
    "This is a 3rd party library which has been installed in the python environment running this notebook. It can make http requests:"
   ]
  },
  {
   "cell_type": "code",
   "execution_count": null,
   "id": "60427d8e-0d6f-4ba7-8efa-e5b689801765",
   "metadata": {},
   "outputs": [],
   "source": [
    "import requests"
   ]
  },
  {
   "cell_type": "code",
   "execution_count": null,
   "id": "5250e569-8e49-4b4b-9004-a8a9d597d58a",
   "metadata": {},
   "outputs": [],
   "source": [
    "r = requests.get('https://www.bbc.co.uk/news/uk')\n",
    "r.text[0:100] # just print the first 100 characters"
   ]
  }
 ],
 "metadata": {
  "kernelspec": {
   "display_name": "Python 3 (ipykernel)",
   "language": "python",
   "name": "python3"
  },
  "language_info": {
   "codemirror_mode": {
    "name": "ipython",
    "version": 3
   },
   "file_extension": ".py",
   "mimetype": "text/x-python",
   "name": "python",
   "nbconvert_exporter": "python",
   "pygments_lexer": "ipython3",
   "version": "3.8.8"
  }
 },
 "nbformat": 4,
 "nbformat_minor": 5
}
